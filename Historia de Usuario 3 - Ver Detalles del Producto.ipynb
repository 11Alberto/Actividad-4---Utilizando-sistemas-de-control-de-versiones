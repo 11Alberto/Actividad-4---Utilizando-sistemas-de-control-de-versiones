{
 "cells": [
  {
   "cell_type": "code",
   "execution_count": null,
   "metadata": {},
   "outputs": [],
   "source": [
    "class Producto:\n",
    "    def __init__(self, nombre, descripcion, precio, stock):\n",
    "        self.nombre = nombre\n",
    "        self.descripcion = descripcion\n",
    "        self.precio = precio\n",
    "        self.stock = stock\n",
    "\n",
    "class VerDetallesProductoApp:\n",
    "    def __init__(self):\n",
    "        self.productos = [\n",
    "            Producto(\"Laptop\", \"Laptop de alta gama\", 1200, 10),\n",
    "            Producto(\"Smartphone\", \"Teléfono inteligente con cámara avanzada\", 800, 15),\n",
    "            Producto(\"Auriculares\", \"Auriculares con cancelación de ruido\", 150, 20)\n",
    "        ]\n",
    "\n",
    "    def ver_detalles(self, nombre_producto):\n",
    "        for producto in self.productos:\n",
    "            if producto.nombre == nombre_producto:\n",
    "                return f\"Nombre: {producto.nombre}, Descripción: {producto.descripcion}, Precio: ${producto.precio}, Stock: {producto.stock} unidades\"\n",
    "        return \"Producto no encontrado\"\n",
    "\n",
    "# Crear una instancia de la aplicación de ver detalles de producto\n",
    "app_ver_detalles = VerDetallesProductoApp()\n",
    "# Ver detalles de un producto específico\n",
    "detalles_producto = app_ver_detalles.ver_detalles(\"Laptop\")\n",
    "print(detalles_producto)\n"
   ]
  }
 ],
 "metadata": {
  "language_info": {
   "name": "python"
  }
 },
 "nbformat": 4,
 "nbformat_minor": 2
}
