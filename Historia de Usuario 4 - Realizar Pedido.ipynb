{
 "cells": [
  {
   "cell_type": "code",
   "execution_count": null,
   "metadata": {},
   "outputs": [],
   "source": [
    "class Pedido:\n",
    "    def __init__(self):\n",
    "        self.productos = []\n",
    "\n",
    "    def agregar_producto(self, producto):\n",
    "        self.productos.append(producto)\n",
    "        return \"Producto agregado al pedido\"\n",
    "\n",
    "    def confirmar_pedido(self):\n",
    "        if not self.productos:\n",
    "            return \"El pedido está vacío\"\n",
    "        return \"Pedido confirmado\"\n",
    "\n",
    "# Crear una instancia de la aplicación de pedidos\n",
    "app_pedido = Pedido()\n",
    "# Agregar productos al pedido\n",
    "resultado_agregar = app_pedido.agregar_producto(\"Laptop\")\n",
    "print(resultado_agregar)\n",
    "# Confirmar pedido\n",
    "resultado_confirmar = app_pedido.confirmar_pedido()\n",
    "print(resultado_confirmar)\n",
    "\n"
   ]
  }
 ],
 "metadata": {
  "language_info": {
   "name": "python"
  }
 },
 "nbformat": 4,
 "nbformat_minor": 2
}
