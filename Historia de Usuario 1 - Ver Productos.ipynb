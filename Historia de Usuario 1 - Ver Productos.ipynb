{
 "cells": [
  {
   "cell_type": "code",
   "execution_count": null,
   "metadata": {},
   "outputs": [],
   "source": [
    "class Producto:\n",
    "    def __init__(self, nombre, descripcion):\n",
    "        self.nombre = nombre\n",
    "        self.descripcion = descripcion\n",
    "\n",
    "class VerProductosApp:\n",
    "    def __init__(self):\n",
    "        self.productos = [\n",
    "            Producto(\"Laptop\", \"Laptop de alta gama\"),\n",
    "            Producto(\"Smartphone\", \"Teléfono inteligente con cámara avanzada\"),\n",
    "            Producto(\"Auriculares\", \"Auriculares con cancelación de ruido\")\n",
    "        ]\n",
    "\n",
    "    def mostrar_productos(self):\n",
    "        for producto in self.productos:\n",
    "            print(f\"Producto: {producto.nombre}, Descripción: {producto.descripcion}\")\n",
    "\n",
    "# Crear una instancia de la aplicación de ver productos\n",
    "app_ver_productos = VerProductosApp()\n",
    "# Mostrar productos\n",
    "app_ver_productos.mostrar_productos()\n"
   ]
  }
 ],
 "metadata": {
  "language_info": {
   "name": "python"
  }
 },
 "nbformat": 4,
 "nbformat_minor": 2
}
