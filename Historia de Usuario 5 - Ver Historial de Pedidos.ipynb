{
 "cells": [
  {
   "cell_type": "code",
   "execution_count": null,
   "metadata": {},
   "outputs": [],
   "source": [
    "class Pedido:\n",
    "    def __init__(self, productos, fecha):\n",
    "        self.productos = productos\n",
    "        self.fecha = fecha\n",
    "\n",
    "class HistorialPedidosApp:\n",
    "    def __init__(self):\n",
    "        self.historial = []\n",
    "\n",
    "    def agregar_pedido(self, pedido):\n",
    "        self.historial.append(pedido)\n",
    "\n",
    "    def ver_historial(self):\n",
    "        for pedido in self.historial:\n",
    "            print(f\"Fecha: {pedido.fecha}, Productos: {', '.join(pedido.productos)}\")\n",
    "\n",
    "# Crear una instancia de la aplicación de historial de pedidos\n",
    "app_historial = HistorialPedidosApp()\n",
    "# Agregar pedidos al historial\n",
    "app_historial.agregar_pedido(Pedido([\"Laptop\", \"Smartphone\"], \"2024-11-28\"))\n",
    "# Ver historial de pedidos\n",
    "app_historial.ver_historial()\n",
    "\n"
   ]
  }
 ],
 "metadata": {
  "language_info": {
   "name": "python"
  }
 },
 "nbformat": 4,
 "nbformat_minor": 2
}
