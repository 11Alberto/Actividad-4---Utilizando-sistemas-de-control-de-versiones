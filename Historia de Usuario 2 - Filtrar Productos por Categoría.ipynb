{
 "cells": [
  {
   "cell_type": "code",
   "execution_count": null,
   "metadata": {},
   "outputs": [],
   "source": [
    "class Producto:\n",
    "    def __init__(self, nombre, descripcion, categoria):\n",
    "        self.nombre = nombre\n",
    "        self.descripcion = descripcion\n",
    "        self.categoria = categoria\n",
    "\n",
    "class FiltrarProductosApp:\n",
    "    def __init__(self):\n",
    "        self.productos = [\n",
    "            Producto(\"Laptop\", \"Laptop de alta gama\", \"Electrónica\"),\n",
    "            Producto(\"Smartphone\", \"Teléfono inteligente con cámara avanzada\", \"Electrónica\"),\n",
    "            Producto(\"Auriculares\", \"Auriculares con cancelación de ruido\", \"Accesorios\")\n",
    "        ]\n",
    "\n",
    "    def filtrar_por_categoria(self, categoria):\n",
    "        resultados = [producto for producto in self.productos if producto.categoria == categoria]\n",
    "        return resultados\n",
    "\n",
    "# Crear una instancia de la aplicación de filtrar productos\n",
    "app_filtrar_productos = FiltrarProductosApp()\n",
    "# Filtrar productos por categoría\n",
    "resultados_filtrado = app_filtrar_productos.filtrar_por_categoria(\"Electrónica\")\n",
    "for producto in resultados_filtrado:\n",
    "    print(f\"Producto: {producto.nombre}, Descripción: {producto.descripcion}\")\n"
   ]
  }
 ],
 "metadata": {
  "language_info": {
   "name": "python"
  }
 },
 "nbformat": 4,
 "nbformat_minor": 2
}
